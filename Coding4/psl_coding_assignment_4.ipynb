{
  "nbformat": 4,
  "nbformat_minor": 0,
  "metadata": {
    "colab": {
      "provenance": []
    },
    "kernelspec": {
      "name": "ir",
      "display_name": "R"
    },
    "language_info": {
      "name": "R"
    }
  },
  "cells": [
    {
      "cell_type": "markdown",
      "source": [
        "Report:\n",
        "*   team members:\n",
        "    1.   Ailing Li - ailingl2\n",
        "    2.   Jesse Anderson - jander98\n",
        "    3.   Kevin Nguyen - kn28\n",
        "\n",
        "*   **Contribution from Ailing**\n",
        "  - Tasks completed: Part I\n",
        "-   **Contribution from Jesse**\n",
        "  - Tasks completed: Part III\n",
        "-   **Contribution from Kevin**\n",
        "    - Tasks completed: Part II"
      ],
      "metadata": {
        "id": "QThf_RYstI9F"
      }
    },
    {
      "cell_type": "code",
      "source": [
        "\n",
        "custom_lib_path = \"content/library\"\n",
        "\n",
        "if (!dir.exists(custom_lib_path)) dir.create(custom_lib_path, recursive = TRUE)\n",
        ".libPaths(custom_lib_path)\n",
        "\n",
        "# Function to download and untar if needed\n",
        "download_if_not_exists = function(url, destfile) {\n",
        "  if (!file.exists(destfile)) {\n",
        "    download.file(url, destfile)\n",
        "    if (grepl(\"\\\\.tar\\\\.gz$\", destfile)) untar(destfile, exdir = custom_lib_path)\n",
        "  }\n",
        "}\n",
        "\n",
        "# List of Library to download\n",
        "files_to_download = list(\n",
        "  list(url = \"https://raw.githubusercontent.com/e76971072/CS598-PSL-Workspace/master/Coding_2/glmnet_4.1-8.tar.gz\", destfile = file.path(custom_lib_path, \"glmnet_4.1-8.tar.gz\")),\n",
        "  list(url = \"https://raw.githubusercontent.com/e76971072/CS598-PSL-Workspace/master/Coding_2/pls_4.3.tar.gz\", destfile = file.path(custom_lib_path, \"pls_4.3.tar.gz\"))\n",
        ")\n",
        "\n",
        "# Download and install packages\n",
        "for (file in files_to_download) download_if_not_exists(file$url, file$destfile)\n",
        "\n",
        "install.packages(file.path(custom_lib_path, \"glmnet_4.1-8.tar.gz\"), repos = NULL, type = \"source\", lib = custom_lib_path)\n",
        "install.packages(file.path(custom_lib_path, \"pls_4.3.tar.gz\"), repos = NULL, type = \"source\", lib = custom_lib_path)"
      ],
      "metadata": {
        "id": "86vv_q7uuNNE"
      },
      "execution_count": null,
      "outputs": []
    },
    {
      "cell_type": "code",
      "source": [
        "# Define the custom library path\n",
        "custom_lib_path = \"content/library\"\n",
        "\n",
        "# Step 1: Create the custom library directory if it doesn't exist\n",
        "if (!dir.exists(custom_lib_path)) {\n",
        "  dir.create(custom_lib_path, recursive = TRUE)\n",
        "  cat(\"Created custom library path:\", custom_lib_path, \"\\n\")\n",
        "} else {\n",
        "  cat(\"Custom library path already exists:\", custom_lib_path, \"\\n\")\n",
        "}\n",
        "\n",
        "# Step 2: Set the library path in R\n",
        ".libPaths(custom_lib_path)\n",
        "\n",
        "# Step 3: Verify that the custom library path has been set correctly\n",
        "cat(\"Library paths in R:\\n\")\n",
        "print(.libPaths())\n",
        "\n",
        "download_if_not_exists = function(url, destfile) {\n",
        "  if (file.exists(destfile)) {\n",
        "    cat(destfile, \"already exists. Skipping download.\\n\")\n",
        "  } else {\n",
        "    # Download the file\n",
        "    download.file(url, destfile)\n",
        "    cat(\"Downloaded\", destfile, \"\\n\")\n",
        "\n",
        "    # Check if the file is a .tar.gz file and untar it\n",
        "    if (grepl(\"\\\\.tar\\\\.gz$\", destfile)) {\n",
        "      cat(destfile, \"is a .tar.gz file. Proceeding to untar...\\n\")\n",
        "\n",
        "      # Use untar instead of system tar command for better compatibility in Colab\n",
        "      tryCatch({\n",
        "        untar(destfile, exdir = \"library\", verbose = TRUE)\n",
        "        cat(\"Successfully untarred\", destfile, \"into the library folder.\\n\")\n",
        "      }, error = function(e) {\n",
        "        cat(\"Failed to untar\", destfile, \": \", e$message, \"\\n\")\n",
        "      })\n",
        "    } else {\n",
        "      cat(destfile, \"is not a .tar.gz file. Skipping untar.\\n\")\n",
        "    }\n",
        "  }\n",
        "}\n",
        "\n",
        "# List of files to download\n",
        "files_to_download = list(\n",
        "  list(url = \"https://liangfgithub.github.io/Data/Coding4_part2_data.txt\", destfile = \"Coding4_part2_data.txt\"),\n",
        "  list(url = \"https://raw.githubusercontent.com/e76971072/CS598-Coding2-Datasets/refs/heads/master/Coding4/faithful.dat\", destfile = \"faithful.dat\"),\n",
        "  list(url = \"https://raw.githubusercontent.com/e76971072/CS598-Coding2-Datasets/refs/heads/master/Coding_2/glmnet_4.1-8.tar.gz\", destfile = \"glmnet_4.1-8.tar.gz\"),\n",
        "  list(url = \"https://raw.githubusercontent.com/e76971072/CS598-Coding2-Datasets/refs/heads/master/Coding_2/pls_4.3.tar.gz\", destfile = \"pls_4.3.tar.gz\")\n",
        ")\n",
        "\n",
        "# Download files and untar where necessary\n",
        "for (file in files_to_download) {\n",
        "  download_if_not_exists(file$url, file$destfile)\n",
        "}\n",
        "\n",
        "# List the contents of the current working directory to verify files\n",
        "cat(\"Files in the current working directory:\\n\")\n",
        "print(list.files())\n",
        "\n",
        "# List the contents of the library folder after untar operation\n",
        "cat(\"Contents of the library folder:\\n\")\n",
        "print(list.files(\"library\"))"
      ],
      "metadata": {
        "colab": {
          "base_uri": "https://localhost:8080/"
        },
        "id": "C1BsyC8cyYdm",
        "outputId": "51149742-90bd-4997-b897-acaa28ad2b1c"
      },
      "execution_count": 4,
      "outputs": [
        {
          "output_type": "stream",
          "name": "stdout",
          "text": [
            "Custom library path already exists: content/library \n",
            "Library paths in R:\n",
            "[1] \"/content/content/library\"      \"/usr/local/lib/R/site-library\"\n",
            "[3] \"/usr/lib/R/site-library\"       \"/usr/lib/R/library\"           \n",
            "Downloaded Coding4_part2_data.txt \n",
            "Coding4_part2_data.txt is not a .tar.gz file. Skipping untar.\n",
            "faithful.dat already exists. Skipping download.\n",
            "glmnet_4.1-8.tar.gz already exists. Skipping download.\n",
            "pls_4.3.tar.gz already exists. Skipping download.\n",
            "Files in the current working directory:\n",
            "[1] \"Coding4_part2_data.txt\" \"content\"                \"faithful.dat\"          \n",
            "[4] \"glmnet_4.1-8.tar.gz\"    \"library\"                \"pls_4.3.tar.gz\"        \n",
            "[7] \"sample_data\"           \n",
            "Contents of the library folder:\n",
            "[1] \"foreach\"   \"glmnet\"    \"iterators\" \"lars\"      \"pls\"       \"RcppEigen\"\n",
            "[7] \"Rmpi\"      \"RUnit\"     \"shape\"    \n"
          ]
        }
      ]
    },
    {
      "cell_type": "markdown",
      "source": [
        "Part I: Gaussian Mixtures\n",
        "\n",
        "- Objective\n",
        "  - Implement the EM algorithm from scratch for a p-dimensional Gaussian mixture model with G components:\n",
        "$$\n",
        "\\sum_{k=1}^{G} p_k \\cdot N(x; \\mu_k, \\Sigma)\n",
        "$$"
      ],
      "metadata": {
        "id": "LoyBcAYAtT4c"
      }
    },
    {
      "cell_type": "markdown",
      "source": [
        "Implementation"
      ],
      "metadata": {
        "id": "EtCCcdtkuNxr"
      }
    },
    {
      "cell_type": "code",
      "source": [],
      "metadata": {
        "id": "RQeToqK-yGb3"
      },
      "execution_count": null,
      "outputs": []
    },
    {
      "cell_type": "markdown",
      "source": [
        "Testing"
      ],
      "metadata": {
        "id": "ms2OLTykt-Jc"
      }
    },
    {
      "cell_type": "markdown",
      "source": [
        "Part II: HMM\n",
        "\n",
        "- Objective\n",
        "  - Implement the Baum-Welch (i.e., EM) algorithm and the Viterbi algorithm from scratch for a Hidden Markov Model (HMM) that produces an outcome sequence of discrete random variables with three distinct values."
      ],
      "metadata": {
        "id": "HvRobvNduUIj"
      }
    }
  ]
}