{
  "nbformat": 4,
  "nbformat_minor": 0,
  "metadata": {
    "colab": {
      "provenance": []
    },
    "kernelspec": {
      "name": "ir",
      "display_name": "R"
    },
    "language_info": {
      "name": "R"
    }
  },
  "cells": [
    {
      "cell_type": "markdown",
      "source": [
        "Report:\n",
        "*   team members:\n",
        "    1.   Ailing Li - ailingl2\n",
        "    2.   Jesse Anderson - jander98\n",
        "    3.   Kevin Nguyen - kn28\n",
        "\n",
        "*   **Contribution from Ailing**\n",
        "  - Tasks completed:\n",
        "-   **Contribution from Jesse**\n",
        "  - Tasks completed:\n",
        "-   **Contribution from Kevin**\n",
        "    - Tasks completed:"
      ],
      "metadata": {
        "id": "NetyqeAHfDEr"
      }
    },
    {
      "cell_type": "markdown",
      "source": [
        "## Part I: Implement Lasso\n",
        "### One-variable Lasso\n",
        "First, write a function one_var_lasso that takes the following inputs:\n",
        "\n",
        "\\begin{aligned}\n",
        "v = \\begin{pmatrix}\n",
        "v_1 & v_2 & \\cdots & v_n\n",
        "\\end{pmatrix}^t,\n",
        "\\end{aligned}\n",
        "\n",
        "\\begin{aligned}\n",
        "z = \\begin{pmatrix}\n",
        "z_1 & z_2 & \\cdots & z_n\n",
        "\\end{pmatrix}^t ,\n",
        "\\end{aligned}\n",
        "\n",
        "\\begin{aligned}\n",
        "\\lambda > 0\n",
        "\\end{aligned}"
      ],
      "metadata": {
        "id": "oug70F73fQMI"
      }
    },
    {
      "cell_type": "markdown",
      "source": [
        "and solves the following one-variable Lasso problem:\n",
        "$$\n",
        "\\min_b { \\frac{1}{2n} \\sum_{i=1}^n (v_i - b z_i)^2 + \\lambda |b|}\n",
        "=\n",
        "\\min_b { \\frac{1}{2n} \\|v - b \\cdot z\\|^2 + \\lambda |b|}\n",
        "$$"
      ],
      "metadata": {
        "id": "dTYWHhk6fh_-"
      }
    },
    {
      "cell_type": "code",
      "source": [
        "# download Coding 2 datasets\n",
        "# It can be deleted later when submitting\n",
        "\n",
        "download.file(\"https://raw.githubusercontent.com/e76971072/CS598-Coding2-Datasets/master/Coding2_Data0.csv\",\n",
        "              destfile = \"Coding2_Data0.csv\")\n",
        "download.file(\"https://raw.githubusercontent.com/e76971072/CS598-Coding2-Datasets/master/Coding2_Data1.csv\",\n",
        "              destfile = \"Coding2_Data1.csv\")\n",
        "\n",
        "download.file(\"https://raw.githubusercontent.com/e76971072/CS598-Coding2-Datasets/master/Coding2_Data2.csv\",\n",
        "              destfile = \"Coding2_Data2.csv\")\n",
        "download.file(\"https://raw.githubusercontent.com/e76971072/CS598-Coding2-Datasets/master/Coding2_lasso_coefs.csv\",\n",
        "              destfile = \" Coding2_lasso_coefs.csv\")\n",
        "\n",
        "download.file(\"https://github.com/e76971072/CS598-Coding2-Datasets/blob/master/glmnet_4.1-8.tar.gz\",\n",
        "              destfile = \"glmnet_4.1-7.tar.gz\")\n",
        "\n",
        "download.file(\"https://github.com/e76971072/CS598-Coding2-Datasets/blob/master/glmnet_4.1-8.tar.gz\",\n",
        "              destfile = \"pls_4.3.tar.gz\")\n"
      ],
      "metadata": {
        "id": "9bb_78woq97O"
      },
      "execution_count": null,
      "outputs": []
    },
    {
      "cell_type": "code",
      "source": [
        "# install necessary libraries for the entire document\n",
        "# install.packages(\"pls_4.3.tar.gz\", repos = NULL, type = \"source\")\n",
        "# install.packages(\"glmnet_4.1-7.tar.gz\", repos = NULL, type = \"source\")\n",
        "install.packages(\"pls\")\n",
        "install.packages(\"glmnet\")\n",
        "install.packages(\"doParallel\")\n",
        "install.packages(\"forEach\")\n",
        "install.packages(\"doRNG\")\n",
        "install.packages(\"reshape2\")\n",
        "#~2 min for install"
      ],
      "metadata": {
        "colab": {
          "base_uri": "https://localhost:8080/"
        },
        "id": "LKvO1c0KvjGB",
        "outputId": "b6c41c5b-a7bb-4aec-80e5-74d32c7973bd"
      },
      "execution_count": null,
      "outputs": [
        {
          "output_type": "stream",
          "name": "stderr",
          "text": [
            "Installing package into ‘/usr/local/lib/R/site-library’\n",
            "(as ‘lib’ is unspecified)\n",
            "\n",
            "Installing package into ‘/usr/local/lib/R/site-library’\n",
            "(as ‘lib’ is unspecified)\n",
            "\n",
            "also installing the dependencies ‘shape’, ‘RcppEigen’\n",
            "\n",
            "\n",
            "Installing package into ‘/usr/local/lib/R/site-library’\n",
            "(as ‘lib’ is unspecified)\n",
            "\n",
            "Installing package into ‘/usr/local/lib/R/site-library’\n",
            "(as ‘lib’ is unspecified)\n",
            "\n",
            "Warning message:\n",
            "“package ‘forEach’ is not available for this version of R\n",
            "\n",
            "A version of this package for your version of R might be available elsewhere,\n",
            "see the ideas at\n",
            "https://cran.r-project.org/doc/manuals/r-patched/R-admin.html#Installing-packages”\n",
            "Warning message:\n",
            "“Perhaps you meant ‘foreach’ ?”\n",
            "Installing package into ‘/usr/local/lib/R/site-library’\n",
            "(as ‘lib’ is unspecified)\n",
            "\n",
            "Installing package into ‘/usr/local/lib/R/site-library’\n",
            "(as ‘lib’ is unspecified)\n",
            "\n"
          ]
        }
      ]
    },
    {
      "cell_type": "code",
      "source": [
        "# added by Ailing\n",
        "one_var_lasso = function(v, z, lam) {\n",
        "  n = length(v)\n",
        "\n",
        "  # Compute v^T * z (dot product)\n",
        "  v_transpose_z = sum(v * z)\n",
        "\n",
        "  # Compute ||z||^2 (squared norm of z)\n",
        "  norm_z_squared = sum(z^2)\n",
        "\n",
        "  # check for denominator\n",
        "  if (norm_z_squared == 0){\n",
        "    return (0)\n",
        "  }\n",
        "\n",
        "  # Compute a\n",
        "  a = v_transpose_z / norm_z_squared\n",
        "  sign_a = sign(a) #positive return 1, negative return -1\n",
        "\n",
        "  # Compute eta\n",
        "  eta = (2 * n * lam) / norm_z_squared\n",
        "\n",
        "  # Compute x*\n",
        "  x_star = sign_a * max((abs(a) - eta / 2), 0)\n",
        "  return (x_star)\n",
        "}"
      ],
      "metadata": {
        "id": "9JjWSllzjFRl"
      },
      "execution_count": null,
      "outputs": []
    },
    {
      "cell_type": "markdown",
      "source": [
        "### The CD Algorithm\n",
        "\n",
        "Next, write your own function MyLasso to implement the Coordinate Descent (CD) algorithm by repeatedly calling one_var_lasso.\n",
        "In the CD algorithm, at each iteration, we solve a one-variable Lasso problem for βj while holding the other (p-1) coefficients at their current values:\n",
        "$$\n",
        "\\min_{\\beta_j} { \\frac{1}{2n} \\sum_{i=1}^n \\left( y_i - \\sum_{k \\neq j} X_{ik} \\beta_k - X_{ij} \\beta_j \\right)^2 + \\lambda \\sum_{k \\neq j} |\\beta_k| + \\lambda |\\beta_j| }\n",
        "$$"
      ],
      "metadata": {
        "id": "lJsxC1vofpMp"
      }
    },
    {
      "cell_type": "markdown",
      "source": [
        "which is equivalent to solving the following one-variable Lasso problem\n",
        "$$\n",
        "\\min_{\\beta_j} { \\frac{1}{2n} \\sum_{i=1}^n \\left( v_i - x_{ij} \\beta_j \\right)^2 + \\lambda |\\beta_j|},\n",
        "\\quad v_i = y_i - \\sum_{k \\neq j} x_{ik} \\beta_k\n",
        "$$"
      ],
      "metadata": {
        "id": "i5eqgzLFfxv8"
      }
    },
    {
      "cell_type": "code",
      "source": [
        "# Added by Kevin\n",
        "MyLasso = function(X, y, lam.seq, maxit = 100) {\n",
        "\n",
        "    # Input\n",
        "    # X: n-by-p design matrix without the intercept\n",
        "    # y: n-by-1 response vector\n",
        "    # lam.seq: sequence of lambda values (arranged from large to small)\n",
        "    # maxit: number of updates for each lambda\n",
        "\n",
        "    # Output\n",
        "    # B: a (p+1)-by-length(lam.seq) coefficient matrix\n",
        "    #    with the first row being the intercept sequence\n",
        "\n",
        "\n",
        "    n = length(y)\n",
        "    p = dim(X)[2]\n",
        "    nlam = length(lam.seq)\n",
        "    B = matrix(0, ncol = nlam, nrow = (p+1))\n",
        "    rownames(B) = c(\"Intercept\", colnames(X))\n",
        "\n",
        "    ##############################\n",
        "    # YOUR CODE:\n",
        "    # (1) new.X = centered & scaled X;\n",
        "    # (2) record the centers and scales used in (1)\n",
        "    ##############################\n",
        "\n",
        "    new.X  = matrix(0, nrow = nrow(X), ncol = ncol(X)) # create matrix fill with 0 by nRow x nCol\n",
        "\n",
        "\n",
        "    for (i in 1:p) { # looping through number of column in X\n",
        "      col_mean  = mean(X[, i])  # Calculate the mean of the column\n",
        "      col_sd  = sd(X[, i])      # Calculate the standard deviation of the column\n",
        "      new.X[, i]  =  (X[, i] - col_mean) / col_sd  # Center and scale value new.X at i\n",
        "    }\n",
        "\n",
        "    # Initialize coef vector b and residual vector r\n",
        "    b = rep(0, p)\n",
        "    r = y\n",
        "\n",
        "    # Triple nested loop\n",
        "    for (m in 1:nlam) {\n",
        "      for (step in 1:maxit) {\n",
        "        for (j in 1:p) {\n",
        "          r = r + (new.X[, j] * b[j])\n",
        "          b[j] = one_var_lasso(r, new.X[, j], lam.seq[m])\n",
        "          r = r - new.X[, j] * b[j]\n",
        "        }\n",
        "      }\n",
        "      B[-1, m] = b\n",
        "    }\n",
        "\n",
        "    ##############################\n",
        "    # YOUR CODE:\n",
        "    # scale back the coefficients;\n",
        "    # update the intercepts stored in B[1, ]\n",
        "    ##############################\n",
        "    n_lam = dim(B)[2]\n",
        "\n",
        "    rescaled_B = B[-1, ]\n",
        "\n",
        "    for (j in 1:dim(rescaled_B)[1]) {\n",
        "      rescaled_B[j, ] = B[j + 1, ] / apply(X, 2, sd)[j]  # rescale coefficient in B\n",
        "    }\n",
        "\n",
        "    # Calculate intercepts\n",
        "    Intercept = numeric(n_lam)  # Initialize vector for intercepts\n",
        "    for (m in 1:n_lam) {\n",
        "      Intercept[m] = mean(y) - sum(rescaled_B[, m] * colMeans(X)) #  Calculates the intercept for the mth lambda value and stores it in the Intercept vector.\n",
        "    }\n",
        "\n",
        "    # binding Intercept and scaled B together\n",
        "    B = rbind(Intercept, rescaled_B)\n",
        "\n",
        "    return(B)\n",
        "}"
      ],
      "metadata": {
        "id": "e8OPEl3GjKeS"
      },
      "execution_count": null,
      "outputs": []
    },
    {
      "cell_type": "markdown",
      "source": [
        "### Test Your Function\n",
        "\n",
        "Download the data set Coding2_Data0.csv. The data set has 13 predictors, V1 to V13, and one response vector Y.\n",
        "\n",
        "Test your function MyLasso on the data set Coding2_Data0.csv with a specific lambda sequence. Refer to the sample code in R/Python for the specified lambda sequence.\n",
        "\n"
      ],
      "metadata": {
        "id": "lFNTZrrTf3Ge"
      }
    },
    {
      "cell_type": "code",
      "source": [
        "myData = read.csv(\"Coding2_Data0.csv\")\n",
        "X = as.matrix(myData[, -14])\n",
        "y = myData$Y\n",
        "lam.seq = exp(seq(-1, -8, length.out = 80))\n",
        "myout = MyLasso(X, y, lam.seq)"
      ],
      "metadata": {
        "id": "M-vZx798jpBj"
      },
      "execution_count": null,
      "outputs": []
    },
    {
      "cell_type": "markdown",
      "source": [
        " - Check the accuracy of your function against the output from glmnet. The maximum difference between the two coefficient matrices should be less than 0.005."
      ],
      "metadata": {
        "id": "KIOVY8pYjsLy"
      }
    },
    {
      "cell_type": "code",
      "source": [
        "library(glmnet)\n",
        "lasso.fit = glmnet(X, y, alpha = 1, lambda = lam.seq)\n",
        "max(abs(coef(lasso.fit) - myout))"
      ],
      "metadata": {
        "id": "r5a6vUqAjwjZ",
        "colab": {
          "base_uri": "https://localhost:8080/",
          "height": 86
        },
        "outputId": "61253367-0bfc-4e3b-a7f0-157777478a01"
      },
      "execution_count": null,
      "outputs": [
        {
          "output_type": "display_data",
          "data": {
            "text/html": [
              "0.00456362018952738"
            ],
            "text/markdown": "0.00456362018952738",
            "text/latex": "0.00456362018952738",
            "text/plain": [
              "[1] 0.00456362"
            ]
          },
          "metadata": {}
        },
        {
          "output_type": "stream",
          "name": "stdout",
          "text": [
            "[1] 696\n",
            "[1] 506\n",
            "[1] -190\n"
          ]
        }
      ]
    },
    {
      "cell_type": "markdown",
      "source": [
        " - Produce a path plot for the 13 non-intercept coefficients along the lambda values in log scale."
      ],
      "metadata": {
        "id": "3c0kp26Ejx6c"
      }
    },
    {
      "cell_type": "code",
      "source": [
        "x.index = log(lam.seq)\n",
        "beta = myout[-1, ]  # beta is a 13-by-80 matrix\n",
        "matplot(x.index, t(beta),\n",
        "        xlim = c(min(x.index), max(x.index)),\n",
        "        lty = 1,\n",
        "        xlab = \"Log Lambda\",\n",
        "        ylab = \"Coefficients\",\n",
        "        type=\"l\",\n",
        "        lwd = 1)\n",
        "# You can add variable names to each path\n",
        "var.names = colnames(X)\n",
        "nvar = length(var.names)\n",
        "xpos = rep(min(x.index), nvar)\n",
        "ypos = beta[, ncol(beta)]\n",
        "text(xpos, ypos, var.names, cex=0.5, pos=2)"
      ],
      "metadata": {
        "id": "NahH1P8Lj1P_",
        "colab": {
          "base_uri": "https://localhost:8080/",
          "height": 437
        },
        "outputId": "1b316023-780d-41b4-e977-49182870438a"
      },
      "execution_count": null,
      "outputs": [
        {
          "output_type": "display_data",
          "data": {
            "text/plain": [
              "plot without title"
            ],
            "image/png": "[encoded data removed]"
          },
          "metadata": {
            "image/png": {
              "width": 420,
              "height": 420
            }
          }
        }
      ]
    },
    {
      "cell_type": "markdown",
      "source": [
        "Your plot should look almost the same as the plot from glmnet"
      ],
      "metadata": {
        "id": "5ghykDv3j5Cr"
      }
    },
    {
      "cell_type": "code",
      "source": [
        "plot(lasso.fit, xvar = \"lambda\")"
      ],
      "metadata": {
        "id": "BVEwfysUj5wX",
        "colab": {
          "base_uri": "https://localhost:8080/",
          "height": 437
        },
        "outputId": "b3cd059b-c685-407b-acfb-284f3bdd0443"
      },
      "execution_count": null,
      "outputs": [
        {
          "output_type": "display_data",
          "data": {
            "text/plain": [
              "plot without title"
            ],
            "image/png": "[encoded data removed]"
          },
          "metadata": {
            "image/png": {
              "width": 420,
              "height": 420
            }
          }
        }
      ]
    },
    {
      "cell_type": "markdown",
      "source": [
        "Compare the estimated Lasso coefficients from your function with those provided in Coding2_lasso_coefs.csv. The maximum difference between the two coefficient matrices should be **less than 0.005**.\n",
        "Refer to the sample code for instructions on how to read in the coefficients from Coding2_lasso_coefs.csv."
      ],
      "metadata": {
        "id": "VIlLmaVEjhjR"
      }
    },
    {
      "cell_type": "code",
      "source": [
        "lasso_coefs = read.csv(\"Coding2_lasso_coefs.csv\")\n",
        "lasso_coefs_m = as.matrix(lasso_coefs)\n",
        "max(myout - lasso_coefs_m)"
      ],
      "metadata": {
        "colab": {
          "base_uri": "https://localhost:8080/",
          "height": 332
        },
        "id": "rS0sW7te8P2V",
        "outputId": "116e2f45-636d-4a51-814f-fa8586cd6251"
      },
      "execution_count": null,
      "outputs": [
        {
          "output_type": "stream",
          "name": "stderr",
          "text": [
            "Warning message in file(file, \"rt\"):\n",
            "“cannot open file 'Coding2_lasso_coefs.csv': No such file or directory”\n"
          ]
        },
        {
          "output_type": "error",
          "ename": "ERROR",
          "evalue": "Error in file(file, \"rt\"): cannot open the connection\n",
          "traceback": [
            "Error in file(file, \"rt\"): cannot open the connection\nTraceback:\n",
            "1. read.table(file = file, header = header, sep = sep, quote = quote, \n .     dec = dec, fill = fill, comment.char = comment.char, ...)",
            "2. file(file, \"rt\")",
            "3. .handleSimpleError(function (cnd) \n . {\n .     watcher$capture_plot_and_output()\n .     cnd <- sanitize_call(cnd)\n .     watcher$push(cnd)\n .     switch(on_error, continue = invokeRestart(\"eval_continue\"), \n .         stop = invokeRestart(\"eval_stop\"), error = invokeRestart(\"eval_error\", \n .             cnd))\n . }, \"cannot open the connection\", base::quote(file(file, \"rt\")))"
          ]
        }
      ]
    },
    {
      "cell_type": "markdown",
      "source": [
        "\n",
        "## Part II: Simulation Study\n",
        "\n",
        "Consider the following **six** procedures:\n",
        "\n",
        "  - **Full**: Fit a linear regression model using all features\n",
        "  - **Ridge.min**: Ridge regression using lambda.min\n",
        "  - **Lasso.min** and **Lasso.1se**: Lasso using lambda.min or lambda.1se\n",
        "  - **L.Refit**: Refit the model selected by Lasso using lambda.1se\n",
        "  -\t**PCR**: principle components regression with the number of components chosen by 10-fold cross validation"
      ],
      "metadata": {
        "id": "laMS0PlSjmld"
      }
    },
    {
      "cell_type": "markdown",
      "source": [
        "### Case I\n",
        "\n",
        "Download the data set Coding2_Data1.csv. The first 14 columns are the same as the data set we used in Part I with Y being the response variable (moved to the 1st column). The additional 78 more predictors are the quadratic and pairwise product terms of the original 13 predictors."
      ],
      "metadata": {
        "id": "EdbalL8_f4Sr"
      }
    },
    {
      "cell_type": "code",
      "source": [
        "run_simulation <- function(data, T = 50, methods = c(\"Full\", \"Ridge.min\", \"Lasso.min\", \"Lasso.1se\", \"L.Refit\", \"PCR\"), PARALLEL = FALSE) {\n",
        "\n",
        "  # Load necessary libraries\n",
        "  library(glmnet) #Ridge and Lasso Regression\n",
        "  library(pls) #For Principal Component Regression(PCR)\n",
        "\n",
        "  # Check for valid method names, stop if wrong names\n",
        "  valid_methods = c(\"Full\", \"Ridge.min\", \"Lasso.min\", \"Lasso.1se\", \"L.Refit\", \"PCR\")\n",
        "  if (!all(methods %in% valid_methods)) {\n",
        "    stop(\"Invalid method(s) specified in 'methods' parameter.\")\n",
        "  }\n",
        "  #If we are parallelizing we load necessary libraries\n",
        "  if (PARALLEL) {\n",
        "    library(doParallel) #general parallel backend support\n",
        "    library(foreach) #Looping in paralel\n",
        "    library(doRNG) #reproducibility in parallel\n",
        "  }\n",
        "\n",
        "  # Prepare data\n",
        "  X = data.matrix(data[,-1])\n",
        "  Y = data[,1]\n",
        "  n = length(Y)\n",
        "  ntest = round(n * 0.25) #Test set size [25% of data]\n",
        "  ntrain = n - ntest #Training set size [remaining 75%]\n",
        "\n",
        "  # Generate indices for test sets\n",
        "  set.seed(2913)  # For reproducibility\n",
        "  all.test.id = replicate(T, sample(1:n, ntest)) #random test indiices for each iter\n",
        "\n",
        "  # Initialize vectors to store MSPEs for selected methods\n",
        "  MSPEs = list()\n",
        "  for (method in methods) {\n",
        "    MSPEs[[method]] = numeric(T)\n",
        "  }\n",
        "\n",
        "  # Define lambda sequence for Ridge (as per your code)\n",
        "  mylasso.lambda.seq = exp(seq(-10, 1, length.out = 100))\n",
        "\n",
        "  # Set up parallel backend if PARALLEL is TRUE\n",
        "  if (PARALLEL) {\n",
        "    numCores <- parallel::detectCores() - 1  # Leave one core free, detect cores\n",
        "    cl <- makeCluster(numCores) #parallel cluster init\n",
        "    registerDoParallel(cl) #register parallel backend\n",
        "    library(doRNG) #double check, may be excess. Backcheck later.\n",
        "    set.seed(2913)  # For reproducibility in parallel\n",
        "    `%dopar%` <- `%dorng%`  # Use doRNG for reproducible parallel loops\n",
        "  } else {\n",
        "    `%dopar%` <- foreach::`%do%` #else sequential exec\n",
        "  }\n",
        "\n",
        "  # Now run the simulations, will do in paralle or sequential depending on arg\n",
        "  results <- foreach(t = 1:T, .packages = c('glmnet', 'pls')) %dopar% {\n",
        "    # Initialize a list to store results for this iteration\n",
        "    res = list()\n",
        "\n",
        "    # Split data into training and testing sets\n",
        "    test.id = all.test.id[, t]\n",
        "    train.id = setdiff(1:n, test.id)\n",
        "\n",
        "    # Full model (Ordinary Least Squares)\n",
        "    if (\"Full\" %in% methods) {\n",
        "      full.model = lm(Y ~ ., data = data[train.id, ])\n",
        "      Ytest.pred = predict(full.model, newdata = data[test.id, ])\n",
        "      res$Full = mean((data$Y[test.id] - Ytest.pred)^2)\n",
        "    }\n",
        "\n",
        "    # Ridge regression using lambda.min\n",
        "    if (\"Ridge.min\" %in% methods) {\n",
        "      #Cross validation for Ridge\n",
        "      cv.out = cv.glmnet(X[train.id, ], Y[train.id], alpha = 0, lambda = mylasso.lambda.seq)\n",
        "      #Get best lambda(lambda.min)\n",
        "      best.lam = cv.out$lambda.min\n",
        "      #Predict on test set\n",
        "      Ytest.pred = predict(cv.out, s = best.lam, newx = X[test.id, ])\n",
        "      #Calc MSPE for ridge regression\n",
        "      res$Ridge.min = mean((Y[test.id] - Ytest.pred)^2)\n",
        "    }\n",
        "\n",
        "    # Lasso regression (uses default lambda sequence per example code)\n",
        "    if (any(c(\"Lasso.min\", \"Lasso.1se\", \"L.Refit\") %in% methods)) {\n",
        "      #Perform cross validation for lasso\n",
        "      cv.out = cv.glmnet(X[train.id, ], Y[train.id], alpha = 1)\n",
        "    }\n",
        "\n",
        "    # Lasso.min\n",
        "    if (\"Lasso.min\" %in% methods) {\n",
        "      best.lam = cv.out$lambda.min\n",
        "      #predict on test set\n",
        "      Ytest.pred = predict(cv.out, s = best.lam, newx = X[test.id, ])\n",
        "      #calc MSPE for lasso\n",
        "      res$Lasso.min = mean((Y[test.id] - Ytest.pred)^2)\n",
        "    }\n",
        "\n",
        "    # Lasso.1se [less agressive regularization]\n",
        "    if (\"Lasso.1se\" %in% methods) {\n",
        "      best.lam = cv.out$lambda.1se\n",
        "      Ytest.pred = predict(cv.out, s = best.lam, newx = X[test.id, ])\n",
        "      res$Lasso.1se = mean((Y[test.id] - Ytest.pred)^2)\n",
        "    }\n",
        "\n",
        "    # Lasso refit\n",
        "    if (\"L.Refit\" %in% methods) {\n",
        "      best.lam = cv.out$lambda.1se\n",
        "      mylasso.coef = predict(cv.out, s = best.lam, type = \"coefficients\")\n",
        "      var.sel = row.names(mylasso.coef)[which(mylasso.coef != 0)[-1]]\n",
        "      if (length(var.sel) > 0) {\n",
        "        mylasso.refit = lm(Y ~ ., data[train.id, c(\"Y\", var.sel)])\n",
        "        Ytest.pred = predict(mylasso.refit, newdata = data[test.id, ])\n",
        "        res$L.Refit = mean((Ytest.pred - Y[test.id])^2)\n",
        "      } else {\n",
        "        # If no variables selected, predict using mean of training Y\n",
        "        Ytest.pred = mean(Y[train.id])\n",
        "        res$L.Refit = mean((Y[test.id] - Ytest.pred)^2)\n",
        "      }\n",
        "    }\n",
        "\n",
        "    # PCR\n",
        "    if (\"PCR\" %in% methods) {\n",
        "      mypcr = pcr(Y ~ ., data = data[train.id, ], validation = \"CV\", scale = TRUE)\n",
        "      CVerr = RMSEP(mypcr)$val[1, , ]\n",
        "      best.ncomp = which.min(CVerr) - 1  # Adjust index\n",
        "      if (best.ncomp == 0) { #handle one off case\n",
        "        Ytest.pred = mean(Y[train.id])\n",
        "      } else {\n",
        "        Ytest.pred = predict(mypcr, data[test.id, ], ncomp = best.ncomp)\n",
        "      }\n",
        "      res$PCR = mean((Ytest.pred - Y[test.id])^2)\n",
        "    }\n",
        "\n",
        "    return(res)\n",
        "  }\n",
        "\n",
        "  # Stop the parallel backend if used\n",
        "  if (PARALLEL) {\n",
        "    stopCluster(cl)\n",
        "  }\n",
        "\n",
        "  # Collect results\n",
        "  for (t in 1:T) {\n",
        "    res = results[[t]]\n",
        "    for (method in names(res)) {\n",
        "      MSPEs[[method]][t] = res[[method]]\n",
        "    }\n",
        "  }\n",
        "\n",
        "  # Return MSPEs\n",
        "  return(MSPEs)\n",
        "}\n",
        "\n",
        "\n",
        "myData = read.csv(\"Coding2_Data1.csv\", header = TRUE)\n",
        "\n",
        "# Measure time for parallel execution\n",
        "#time_parallel <- system.time({\n",
        "#  MSPEs_parallel = run_simulation(data = myData, T = 50, PARALLEL = TRUE)\n",
        "#})\n",
        "\n",
        "# Measure time for non-parallel execution\n",
        "#time_non_parallel <- system.time({\n",
        "#  MSPEs_non_parallel = run_simulation(data = myData, T = 50, PARALLEL = FALSE)\n",
        "#})\n",
        "\n",
        "# Output the times\n",
        "#at(\"Time for parallel execution:\\n\")\n",
        "#print(time_parallel)\n",
        "#cat(\"Time for non-parallel execution:\\n\")\n",
        "#print(time_non_parallel)\n",
        "#example default run all, par true\n",
        "MSPEs = run_simulation(data = myData, T = 50, PARALLEL = TRUE)\n",
        "\n",
        "#example default run all, par false\n",
        "#MSPEs = run_simulation(data = myData, T = 50, PARALLEL = FALSE)\n",
        "#example run two\n",
        "#MSPEs = run_simulation(data = myData, T = 50, methods = c(\"Lasso.min\", \"Ridge.min\"), PARALLEL = FALSE)\n",
        "\n",
        "#sumMe\n",
        "# Summarize MSPEs for all methods\n",
        "summary_df = data.frame(\n",
        "  Method = names(MSPEs),\n",
        "  Mean_MSPE = sapply(MSPEs, mean),\n",
        "  SD_MSPE = sapply(MSPEs, sd)\n",
        ")\n",
        "\n",
        "\n",
        "#plotMe\n",
        "library(reshape2)\n",
        "library(ggplot2)\n",
        "library(knitr)\n",
        "\n",
        "# Combine MSPEs into a data frame for plotting\n",
        "MSPEs_melted = melt(MSPEs) #melt didn't work with renaming so rename below\n",
        "\n",
        "# Rename columns to 'Method' and 'MSPE'\n",
        "colnames(MSPEs_melted) = c(\"Method\", \"MSPE\")\n",
        "\n",
        "kable(summary_df,\n",
        "      col.names = c(\"Method\", \"MSPE\", \"SD_MSPE\"),\n",
        "      align = \"c\",\n",
        "      caption = \"Case 1 MSPEs of Different Procedures over 50 Simulations: \",\n",
        "      row.names = FALSE)\n",
        "\n",
        "# Plotting the results\n",
        "ggplot(MSPEs_melted, aes(x = MSPE, y = Method)) +\n",
        "  geom_jitter(width = 0.2, alpha = 0.5, color = \"blue\") +\n",
        "  geom_boxplot(alpha = 0.7, outlier.shape = NA, fill = \"lightblue\") +\n",
        "  theme_bw() +\n",
        "  labs(title = \"MSPEs of Different Procedures over 50 Simulations\",\n",
        "       x = \"Method\",\n",
        "       y = \"MSPE\") +\n",
        "  theme(axis.text.x = element_text(angle = 45, hjust = 1))"
      ],
      "metadata": {
        "id": "eUl_8qR4kxqt"
      },
      "execution_count": null,
      "outputs": []
    },
    {
      "cell_type": "code",
      "source": [
        "#Load libraries and data.\n",
        "set.seed(2913)\n",
        "library(glmnet)\n",
        "library(pls)\n",
        "myData = read.csv(\"Coding2_Data1.csv\", header = TRUE)"
      ],
      "metadata": {
        "id": "nUpUMSzQk0_I"
      },
      "execution_count": null,
      "outputs": []
    },
    {
      "cell_type": "markdown",
      "source": [
        "-\t[a] Conduct the following simulation exercise **50** times:\n",
        "  \n",
        "    –\tIn each iteration, randomly split the data into two parts, **75%** for training and **25%** for testing.\n",
        "    \n",
        "    –\tFor each of the **six** procedures, train a model using the training subset and generate predictions for the test subset. Record the **MSPE** (Mean Squared Prediction Error) based on these test data predictions.\n",
        "    \n",
        "  -\t[b] Graphically summarize your findings on the MSPE using a strip chart, and consider overlaying a boxplot for additional insights.\n",
        "  \n",
        "  -\t[c] Based on the outcomes of your simulation study, please address the following questions:\n",
        "  \n",
        "    –\tWhich procedure or procedures yield the best performance in terms of MSPE? – Conversely, which procedure or procedures show the poorest performance?\n",
        "    \n",
        "    –\tIn the context of Lasso regression, which procedure, **Lasso.min** or **Lasso.1se**, yields a better MSPE?\n",
        "    \n",
        "    –\tIs refitting advantageous in this case? In other words, does **L.Refit** outperform **Lasso.1se**?\n",
        "    \n",
        "    –\tIs variable selection or shrinkage warranted for this particular dataset? To clarify, do you find the performance of the **Full** model to be comparable to, or divergent from, the best-performing procedure among the other five?"
      ],
      "metadata": {
        "id": "d66UWKkDlDKy"
      }
    },
    {
      "cell_type": "markdown",
      "source": [
        "### Case II\n",
        "\n",
        "Download the data set Coding2_Data2.csv. The first 92 columns are identical to those in Coding2_Data1.csv, with the addition of 500 columns of artificially generated **noise features**.\n"
      ],
      "metadata": {
        "id": "cZW9dBL0f7NQ"
      }
    },
    {
      "cell_type": "code",
      "source": [
        "library(pls)\n",
        "data2 = read.csv(\"Coding2_Data2.csv\", header = TRUE)\n",
        "dim(data2)\n",
        "MSPEs = run_simulation(data = data2, methods =c( \"Ridge.min\", \"Lasso.min\", \"Lasso.1se\", \"L.Refit\", \"PCR\"),  T = 50, PARALLEL = TRUE)\n"
      ],
      "metadata": {
        "id": "GnBdt3O9ufPM"
      },
      "execution_count": null,
      "outputs": []
    },
    {
      "cell_type": "code",
      "source": [
        "# added by Ailing, please keep it here for a while\n",
        "# can use n >> p to show how shrinkage methods has lower variance\n",
        "# need to use glment to get the number of coffs in order to compare\n",
        "# num_selected_features = sum(coef(lasso.fit) != 0) - 1  # Subtract 1 for intercept\n",
        "# print(num_selected_features)\n",
        "# number_observations = nrow(X)\n",
        "# print(number_observations)\n",
        "# difference = number_observations - num_selected_features\n",
        "# print(difference)"
      ],
      "metadata": {
        "id": "FZsiHzfxQqus"
      },
      "execution_count": null,
      "outputs": []
    },
    {
      "cell_type": "markdown",
      "source": [
        "-\tRepeat [a] and [b] above for the **five** procedures **excluding** the **Full** procedure. Graphically summarize your findings on MSPE using a strip chart, and consider overlaying a boxplot for additional insights."
      ],
      "metadata": {
        "id": "B_d2g-Huuzrh"
      }
    },
    {
      "cell_type": "code",
      "source": [
        "# Summarize MSPEs for all methods\n",
        "summary_df = data.frame(\n",
        "  Method = names(MSPEs),\n",
        "  Mean_MSPE = sapply(MSPEs, mean),\n",
        "  SD_MSPE = sapply(MSPEs, sd)\n",
        ")\n",
        "\n",
        "#plotMe\n",
        "library(reshape2)\n",
        "library(ggplot2)\n",
        "library(knitr)\n",
        "\n",
        "# Combine MSPEs into a data frame for plotting\n",
        "MSPEs_melted = melt(MSPEs) #melt didn't work with renaming so rename below\n",
        "\n",
        "# Rename columns to 'Method' and 'MSPE'\n",
        "colnames(MSPEs_melted) = c(\"Method\", \"MSPE\")\n",
        "\n",
        "kable(summary_df,\n",
        "      col.names = c(\"Method\", \"MSPE\", \"SD_MSPE\"),\n",
        "      align = \"c\",\n",
        "      caption = \"Case 2 MSPEs of Different Procedures over 50 Simulations: \",\n",
        "      row.names = FALSE)\n",
        "\n",
        "# Plotting the results\n",
        "ggplot(MSPEs_melted, aes(x = MSPE, y = Method)) +\n",
        "  geom_jitter(width = 0.2, alpha = 0.5, color = \"blue\") +\n",
        "  geom_boxplot(alpha = 0.7, outlier.shape = NA, fill = \"lightblue\") +\n",
        "  theme_bw() +\n",
        "  labs(title = \"MSPEs of Different Procedures over 50 Simulations\",\n",
        "       x = \"Method\",\n",
        "       y = \"MSPE\") +\n",
        "  theme(axis.text.x = element_text(angle = 45, hjust = 1))"
      ],
      "metadata": {
        "id": "wK99NluvyPwZ"
      },
      "execution_count": null,
      "outputs": []
    },
    {
      "cell_type": "markdown",
      "source": [
        "-\t[c] Address the following questions:\n",
        "  \n",
        "    –\tWhich procedure or procedures yield the best performance in terms of MSPE?\n",
        "    –\tConversely, which procedure or procedures show the poorest performance?\n",
        "    \n",
        "    –\tHave you observed any procedure or procedures that performed well in Case I but exhibited poorer performance in Case II, or vice versa? If so, please offer an explanation.\n",
        "    \n",
        "    –\tGiven that Coding2_Data2.csv includes all features found in Coding2_Data1.csv, one might anticipate that the best MSPE in Case II would be equal to or lower than the best MSPE in Case I. Do your simulation results corroborate this expectation? If not, please offer an explanation."
      ],
      "metadata": {
        "id": "NNHy9VqQybNV"
      }
    },
    {
      "cell_type": "markdown",
      "source": [
        " TBD answers"
      ],
      "metadata": {
        "id": "LxZNvD0eDM91"
      }
    },
    {
      "cell_type": "markdown",
      "source": [
        "### What to Submit\n",
        "\n",
        "  -\tA Markdown (or Notebook) file in HTML format, which contains all necessary code and the corresponding output/results.\n",
        "  -\tRMD or ipynb files are not needed.\n",
        "  -\tSet the **seed** at the beginning of part II to be the last 4-dig of your UIN. So we can get the same result if we re-run your code. If your UIN ends with “0496”, for example, use “496.”\n",
        "  -\t**One submission per team**. For each assignment, one and only one member submits their work on Coursera/Canvas. Please remember to include the following in your report:\n",
        "–\tthe names and netIDs of all team members; the program (MCS-DS or campus) if the team is a mixture of students from these two;\n",
        "–\ta short paragraph detailing the contribution of each member."
      ],
      "metadata": {
        "id": "1yDj3SAef_Z9"
      }
    }
  ]
}